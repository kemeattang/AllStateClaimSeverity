{
 "cells": [
  {
   "cell_type": "markdown",
   "metadata": {},
   "source": [
    "### 1. Read Data"
   ]
  },
  {
   "cell_type": "code",
   "execution_count": 49,
   "metadata": {
    "collapsed": false
   },
   "outputs": [],
   "source": [
    "import pandas as pd\n",
    "import numpy as np\n",
    "import seaborn as sns\n",
    "import matplotlib.pyplot as plt\n",
    "from sklearn.grid_search import GridSearchCV\n",
    "from sklearn import decomposition, preprocessing, cross_validation\n",
    "from sklearn.cross_validation import KFold\n",
    "from sklearn.metrics import mean_absolute_error\n",
    "from sklearn.linear_model import LinearRegression, Lasso, Ridge, ElasticNet, SGDRegressor\n",
    "from pandas.tools.plotting import scatter_matrix\n",
    "from sklearn.ensemble import RandomForestRegressor\n",
    "%matplotlib inline"
   ]
  },
  {
   "cell_type": "code",
   "execution_count": 3,
   "metadata": {
    "collapsed": false
   },
   "outputs": [
    {
     "data": {
      "text/plain": [
       "(188318, 132)"
      ]
     },
     "execution_count": 3,
     "metadata": {},
     "output_type": "execute_result"
    }
   ],
   "source": [
    "### Read Training Data and Testing Data\n",
    "train = pd.read_csv(\"train.csv\") \n",
    "test = pd.read_csv(\"test.csv\")\n",
    "train.shape"
   ]
  },
  {
   "cell_type": "code",
   "execution_count": 4,
   "metadata": {
    "collapsed": false
   },
   "outputs": [
    {
     "name": "stdout",
     "output_type": "stream",
     "text": [
      "(188318, 130) (125546, 130)\n"
     ]
    }
   ],
   "source": [
    "### Drop id and Seperate loss\n",
    "train_id = train['id']\n",
    "test_id =  test['id']\n",
    "train_label = train['loss']\n",
    "train.drop('id',axis=1,inplace=True)\n",
    "train.drop('loss',axis=1,inplace=True)\n",
    "test.drop('id',axis=1,inplace=True)\n",
    "print (train.shape, test.shape)"
   ]
  },
  {
   "cell_type": "markdown",
   "metadata": {},
   "source": [
    "### 2. Exploratory Analysis\n",
    "    \n",
    "    -Target Variable - loss\n",
    "    -Categorical Variables\n",
    "    -Continuous Variables"
   ]
  },
  {
   "cell_type": "markdown",
   "metadata": {},
   "source": [
    "#### 2.1 Target Variable - loss"
   ]
  },
  {
   "cell_type": "code",
   "execution_count": 5,
   "metadata": {
    "collapsed": false
   },
   "outputs": [
    {
     "data": {
      "text/plain": [
       "<matplotlib.axes._subplots.AxesSubplot at 0xcf1f48a6a0>"
      ]
     },
     "execution_count": 5,
     "metadata": {},
     "output_type": "execute_result"
    },
    {
     "data": {
      "image/png": "[encoded data removed]",
      "text/plain": [
       "<matplotlib.figure.Figure at 0xcf1f5d1be0>"
      ]
     },
     "metadata": {},
     "output_type": "display_data"
    }
   ],
   "source": [
    "fig = plt.figure(figsize=(12,6))\n",
    "ax1 = fig.add_subplot(121)\n",
    "ax1.set_title(\"Loss Distribution\")\n",
    "train_label.plot(kind='hist', grid = True, bins=30)\n",
    "\n",
    "ax1 = fig.add_subplot(122)\n",
    "ax1.set_title(\"Log Loss Distribution\")\n",
    "np.log(train_label).plot(kind='hist', grid = True, bins=30)"
   ]
  },
  {
   "cell_type": "code",
   "execution_count": 6,
   "metadata": {
    "collapsed": false
   },
   "outputs": [
    {
     "name": "stdout",
     "output_type": "stream",
     "text": [
      "We have 17 outliers.\n"
     ]
    }
   ],
   "source": [
    "### Let's remove outliers!\n",
    "train_label_log = np.log(train_label)\n",
    "print(\"We have %d outliers.\" % (train_label_log[train_label_log<4].count()))\n",
    "train_new = train.drop(train_label_log[train_label_log<4].index)\n",
    "label_new = train_label_log.drop(train_label_log[train_label_log<4].index)\n",
    "train_new = train_new.reset_index(drop=True)\n",
    "label_new = label_new.reset_index(drop=True)"
   ]
  },
  {
   "cell_type": "code",
   "execution_count": 7,
   "metadata": {
    "collapsed": false
   },
   "outputs": [
    {
     "data": {
      "text/plain": [
       "<matplotlib.axes._subplots.AxesSubplot at 0xcf2df482b0>"
      ]
     },
     "execution_count": 7,
     "metadata": {},
     "output_type": "execute_result"
    },
    {
     "data": {
      "image/png": "[encoded data removed]",
      "text/plain": [
       "<matplotlib.figure.Figure at 0xcf2df44e80>"
      ]
     },
     "metadata": {},
     "output_type": "display_data"
    }
   ],
   "source": [
    "### Plot log loss without outliers\n",
    "fig = plt.figure(figsize=(12,6))\n",
    "ax1 = fig.add_subplot(121)\n",
    "ax1.set_title(\"Log Loss Distribution without Outliers\")\n",
    "label_new.plot(kind='hist', grid = True, bins=30)"
   ]
  },
  {
   "cell_type": "markdown",
   "metadata": {
    "collapsed": false
   },
   "source": [
    "#### 2.2 Categorical Variables"
   ]
  },
  {
   "cell_type": "code",
   "execution_count": 8,
   "metadata": {
    "collapsed": false
   },
   "outputs": [
    {
     "name": "stdout",
     "output_type": "stream",
     "text": [
      "We have 116 categorical variables.\n"
     ]
    }
   ],
   "source": [
    "### Check number of categorical variables\n",
    "features = train_new.columns\n",
    "cats = [feat for feat in features if 'cat' in feat]\n",
    "print(\"We have %d categorical variables.\" % (len(cats)))"
   ]
  },
  {
   "cell_type": "code",
   "execution_count": 9,
   "metadata": {
    "collapsed": false
   },
   "outputs": [
    {
     "name": "stdout",
     "output_type": "stream",
     "text": [
      "27 variables has 2 to 10 categories.\n",
      "6 variables has more than 20 categories.\n",
      "72 variables has 2 categories.\n",
      "11 variables has 10 to 20 categories.\n"
     ]
    }
   ],
   "source": [
    "### Check how many categories we have in each\n",
    "unique = {'2':0,'2 to 10':0,'10 to 20':0, 'more than 20':0}\n",
    "for i in range(len(cats)):\n",
    "    count = len(train_new[cats[i]].unique())\n",
    "    if count <= 2:\n",
    "        unique[\"2\"] += 1\n",
    "    elif count <= 10:\n",
    "        unique['2 to 10'] += 1\n",
    "    elif count <=20:\n",
    "        unique['10 to 20'] += 1\n",
    "    else:\n",
    "        unique['more than 20'] += 1\n",
    "\n",
    "for k, v in unique.items():\n",
    "    print (\"%d variables has %s categories.\" % (v, k))"
   ]
  },
  {
   "cell_type": "code",
   "execution_count": 10,
   "metadata": {
    "collapsed": false
   },
   "outputs": [
    {
     "data": {
      "image/png": "[encoded data removed]",
      "text/plain": [
       "<matplotlib.figure.Figure at 0xcf2ed3a2b0>"
      ]
     },
     "metadata": {},
     "output_type": "display_data"
    }
   ],
   "source": [
    "fig = plt.figure(figsize=(12,6))\n",
    "ax1 = fig.add_subplot(121)\n",
    "ax1.set_title(\"Number of Categories for Each\")\n",
    "plt.bar(range(len(unique)), unique.values(), align='center')\n",
    "plt.xticks(range(len(unique)), unique.keys(), fontsize=10)\n",
    "plt.show() "
   ]
  },
  {
   "cell_type": "markdown",
   "metadata": {},
   "source": [
    "#### 2.3 Continuous Variables"
   ]
  },
  {
   "cell_type": "code",
   "execution_count": 11,
   "metadata": {
    "collapsed": false
   },
   "outputs": [
    {
     "name": "stdout",
     "output_type": "stream",
     "text": [
      "We have 14 numeric variables.\n",
      "cont1     0.516424\n",
      "cont2    -0.310941\n",
      "cont3    -0.010002\n",
      "cont4     0.416096\n",
      "cont5     0.681622\n",
      "cont6     0.461214\n",
      "cont7     0.826053\n",
      "cont8     0.676634\n",
      "cont9     1.072429\n",
      "cont10    0.355001\n",
      "cont11    0.280821\n",
      "cont12    0.291992\n",
      "cont13    0.380742\n",
      "cont14    0.248674\n",
      "dtype: float64\n"
     ]
    }
   ],
   "source": [
    "conts = [feat for feat in features if 'cont' in feat]\n",
    "print(\"We have %d numeric variables.\" % (len(conts)))\n",
    "print(train[conts].skew())"
   ]
  },
  {
   "cell_type": "code",
   "execution_count": 12,
   "metadata": {
    "collapsed": false
   },
   "outputs": [
    {
     "data": {
      "image/png": "[encoded data removed]",
      "text/plain": [
       "<matplotlib.figure.Figure at 0xcf2d322748>"
      ]
     },
     "metadata": {},
     "output_type": "display_data"
    }
   ],
   "source": [
    "### Plot the distributions\n",
    "fig = plt.figure(figsize=(12,12))\n",
    "for i in range(14):\n",
    "    #position\n",
    "    ax1 = fig.add_subplot(4,4,1+i)\n",
    "    ax1.set_title(conts[i])\n",
    "    ax1.hist(train[conts[i]], align='left',bins = 30)"
   ]
  },
  {
   "cell_type": "code",
   "execution_count": 13,
   "metadata": {
    "collapsed": false
   },
   "outputs": [
    {
     "data": {
      "text/plain": [
       "\"### Plot the distributions\\nfig = plt.figure(figsize=(12,12))\\nfor i in range(14):\\n    #position\\n    ax1 = fig.add_subplot(4,4,1+i)\\n    ax1.set_title(conts[i])\\n    ax1.hist(np.log(train[conts[i]]), align='left',bins = 30)\""
      ]
     },
     "execution_count": 13,
     "metadata": {},
     "output_type": "execute_result"
    }
   ],
   "source": [
    "\"\"\"### Plot the distributions\n",
    "fig = plt.figure(figsize=(12,12))\n",
    "for i in range(14):\n",
    "    #position\n",
    "    ax1 = fig.add_subplot(4,4,1+i)\n",
    "    ax1.set_title(conts[i])\n",
    "    ax1.hist(np.log(train[conts[i]]), align='left',bins = 30)\"\"\""
   ]
  },
  {
   "cell_type": "code",
   "execution_count": 14,
   "metadata": {
    "collapsed": false
   },
   "outputs": [
    {
     "data": {
      "text/plain": [
       "<matplotlib.axes._subplots.AxesSubplot at 0xcf24df94a8>"
      ]
     },
     "execution_count": 14,
     "metadata": {},
     "output_type": "execute_result"
    },
    {
     "data": {
      "image/png": "[encoded data removed]",
      "text/plain": [
       "<matplotlib.figure.Figure at 0xcf19c29d68>"
      ]
     },
     "metadata": {},
     "output_type": "display_data"
    }
   ],
   "source": [
    "### Correlation Plot\n",
    "fig = plt.figure(figsize=(12,8))\n",
    "corr = train[conts].corr()\n",
    "sns.heatmap(corr, xticklabels=corr.columns.values, yticklabels=corr.columns.values)"
   ]
  },
  {
   "cell_type": "code",
   "execution_count": 15,
   "metadata": {
    "collapsed": true
   },
   "outputs": [],
   "source": [
    "### Standardize Continuous Variables"
   ]
  },
  {
   "cell_type": "markdown",
   "metadata": {},
   "source": [
    "### 3. Data Preprocessing"
   ]
  },
  {
   "cell_type": "markdown",
   "metadata": {},
   "source": [
    "#### 3.1 One Hot Dummy Encoding"
   ]
  },
  {
   "cell_type": "code",
   "execution_count": 16,
   "metadata": {
    "collapsed": false
   },
   "outputs": [
    {
     "name": "stdout",
     "output_type": "stream",
     "text": [
      "(313847, 131)\n"
     ]
    },
    {
     "data": {
      "text/html": [
       "<div>\n",
       "<table border=\"1\" class=\"dataframe\">\n",
       "  <thead>\n",
       "    <tr style=\"text-align: right;\">\n",
       "      <th></th>\n",
       "      <th>cat1</th>\n",
       "      <th>cat2</th>\n",
       "      <th>cat3</th>\n",
       "      <th>cat4</th>\n",
       "      <th>cat5</th>\n",
       "      <th>cat6</th>\n",
       "      <th>cat7</th>\n",
       "      <th>cat8</th>\n",
       "      <th>cat9</th>\n",
       "      <th>cat10</th>\n",
       "      <th>...</th>\n",
       "      <th>cont6</th>\n",
       "      <th>cont7</th>\n",
       "      <th>cont8</th>\n",
       "      <th>cont9</th>\n",
       "      <th>cont10</th>\n",
       "      <th>cont11</th>\n",
       "      <th>cont12</th>\n",
       "      <th>cont13</th>\n",
       "      <th>cont14</th>\n",
       "      <th>label</th>\n",
       "    </tr>\n",
       "  </thead>\n",
       "  <tbody>\n",
       "    <tr>\n",
       "      <th>0</th>\n",
       "      <td>A</td>\n",
       "      <td>B</td>\n",
       "      <td>A</td>\n",
       "      <td>B</td>\n",
       "      <td>A</td>\n",
       "      <td>A</td>\n",
       "      <td>A</td>\n",
       "      <td>A</td>\n",
       "      <td>B</td>\n",
       "      <td>A</td>\n",
       "      <td>...</td>\n",
       "      <td>0.718367</td>\n",
       "      <td>0.335060</td>\n",
       "      <td>0.30260</td>\n",
       "      <td>0.67135</td>\n",
       "      <td>0.83510</td>\n",
       "      <td>0.569745</td>\n",
       "      <td>0.594646</td>\n",
       "      <td>0.822493</td>\n",
       "      <td>0.714843</td>\n",
       "      <td>train</td>\n",
       "    </tr>\n",
       "    <tr>\n",
       "      <th>1</th>\n",
       "      <td>A</td>\n",
       "      <td>B</td>\n",
       "      <td>A</td>\n",
       "      <td>A</td>\n",
       "      <td>A</td>\n",
       "      <td>A</td>\n",
       "      <td>A</td>\n",
       "      <td>A</td>\n",
       "      <td>B</td>\n",
       "      <td>B</td>\n",
       "      <td>...</td>\n",
       "      <td>0.438917</td>\n",
       "      <td>0.436585</td>\n",
       "      <td>0.60087</td>\n",
       "      <td>0.35127</td>\n",
       "      <td>0.43919</td>\n",
       "      <td>0.338312</td>\n",
       "      <td>0.366307</td>\n",
       "      <td>0.611431</td>\n",
       "      <td>0.304496</td>\n",
       "      <td>train</td>\n",
       "    </tr>\n",
       "    <tr>\n",
       "      <th>2</th>\n",
       "      <td>A</td>\n",
       "      <td>B</td>\n",
       "      <td>A</td>\n",
       "      <td>A</td>\n",
       "      <td>B</td>\n",
       "      <td>A</td>\n",
       "      <td>A</td>\n",
       "      <td>A</td>\n",
       "      <td>B</td>\n",
       "      <td>B</td>\n",
       "      <td>...</td>\n",
       "      <td>0.289648</td>\n",
       "      <td>0.315545</td>\n",
       "      <td>0.27320</td>\n",
       "      <td>0.26076</td>\n",
       "      <td>0.32446</td>\n",
       "      <td>0.381398</td>\n",
       "      <td>0.373424</td>\n",
       "      <td>0.195709</td>\n",
       "      <td>0.774425</td>\n",
       "      <td>train</td>\n",
       "    </tr>\n",
       "    <tr>\n",
       "      <th>3</th>\n",
       "      <td>B</td>\n",
       "      <td>B</td>\n",
       "      <td>A</td>\n",
       "      <td>B</td>\n",
       "      <td>A</td>\n",
       "      <td>A</td>\n",
       "      <td>A</td>\n",
       "      <td>A</td>\n",
       "      <td>B</td>\n",
       "      <td>A</td>\n",
       "      <td>...</td>\n",
       "      <td>0.440945</td>\n",
       "      <td>0.391128</td>\n",
       "      <td>0.31796</td>\n",
       "      <td>0.32128</td>\n",
       "      <td>0.44467</td>\n",
       "      <td>0.327915</td>\n",
       "      <td>0.321570</td>\n",
       "      <td>0.605077</td>\n",
       "      <td>0.602642</td>\n",
       "      <td>train</td>\n",
       "    </tr>\n",
       "    <tr>\n",
       "      <th>4</th>\n",
       "      <td>A</td>\n",
       "      <td>B</td>\n",
       "      <td>A</td>\n",
       "      <td>B</td>\n",
       "      <td>A</td>\n",
       "      <td>A</td>\n",
       "      <td>A</td>\n",
       "      <td>A</td>\n",
       "      <td>B</td>\n",
       "      <td>B</td>\n",
       "      <td>...</td>\n",
       "      <td>0.178193</td>\n",
       "      <td>0.247408</td>\n",
       "      <td>0.24564</td>\n",
       "      <td>0.22089</td>\n",
       "      <td>0.21230</td>\n",
       "      <td>0.204687</td>\n",
       "      <td>0.202213</td>\n",
       "      <td>0.246011</td>\n",
       "      <td>0.432606</td>\n",
       "      <td>train</td>\n",
       "    </tr>\n",
       "  </tbody>\n",
       "</table>\n",
       "<p>5 rows × 131 columns</p>\n",
       "</div>"
      ],
      "text/plain": [
       "  cat1 cat2 cat3 cat4 cat5 cat6 cat7 cat8 cat9 cat10  ...       cont6  \\\n",
       "0    A    B    A    B    A    A    A    A    B     A  ...    0.718367   \n",
       "1    A    B    A    A    A    A    A    A    B     B  ...    0.438917   \n",
       "2    A    B    A    A    B    A    A    A    B     B  ...    0.289648   \n",
       "3    B    B    A    B    A    A    A    A    B     A  ...    0.440945   \n",
       "4    A    B    A    B    A    A    A    A    B     B  ...    0.178193   \n",
       "\n",
       "      cont7    cont8    cont9   cont10    cont11    cont12    cont13  \\\n",
       "0  0.335060  0.30260  0.67135  0.83510  0.569745  0.594646  0.822493   \n",
       "1  0.436585  0.60087  0.35127  0.43919  0.338312  0.366307  0.611431   \n",
       "2  0.315545  0.27320  0.26076  0.32446  0.381398  0.373424  0.195709   \n",
       "3  0.391128  0.31796  0.32128  0.44467  0.327915  0.321570  0.605077   \n",
       "4  0.247408  0.24564  0.22089  0.21230  0.204687  0.202213  0.246011   \n",
       "\n",
       "     cont14  label  \n",
       "0  0.714843  train  \n",
       "1  0.304496  train  \n",
       "2  0.774425  train  \n",
       "3  0.602642  train  \n",
       "4  0.432606  train  \n",
       "\n",
       "[5 rows x 131 columns]"
      ]
     },
     "execution_count": 16,
     "metadata": {},
     "output_type": "execute_result"
    }
   ],
   "source": [
    "### Let's merge the training and testing data \n",
    "train_new['label'] = 'train'\n",
    "test['label'] = 'test'\n",
    "frames = [train_new,test] \n",
    "df_all = pd.concat(frames)\n",
    "df_all = df_all.reset_index(drop=True)\n",
    "print(df_all.shape)\n",
    "df_all.head()"
   ]
  },
  {
   "cell_type": "code",
   "execution_count": 17,
   "metadata": {
    "collapsed": false
   },
   "outputs": [
    {
     "data": {
      "text/plain": [
       "(313847, 1176)"
      ]
     },
     "execution_count": 17,
     "metadata": {},
     "output_type": "execute_result"
    }
   ],
   "source": [
    "### One hot dummy encoding\n",
    "### Column 0-115(index) are categorical, 116 - 129 are numeric\n",
    "dummies = pd.get_dummies(df_all[cats])\n",
    "dummies.shape"
   ]
  },
  {
   "cell_type": "markdown",
   "metadata": {},
   "source": [
    "#### 3.2 Normalize Numerical Variables"
   ]
  },
  {
   "cell_type": "code",
   "execution_count": 18,
   "metadata": {
    "collapsed": false
   },
   "outputs": [
    {
     "name": "stdout",
     "output_type": "stream",
     "text": [
      "(313847, 14)\n"
     ]
    },
    {
     "data": {
      "text/html": [
       "<div>\n",
       "<table border=\"1\" class=\"dataframe\">\n",
       "  <thead>\n",
       "    <tr style=\"text-align: right;\">\n",
       "      <th></th>\n",
       "      <th>cont1</th>\n",
       "      <th>cont2</th>\n",
       "      <th>cont3</th>\n",
       "      <th>cont4</th>\n",
       "      <th>cont5</th>\n",
       "      <th>cont6</th>\n",
       "      <th>cont7</th>\n",
       "      <th>cont8</th>\n",
       "      <th>cont9</th>\n",
       "      <th>cont10</th>\n",
       "      <th>cont11</th>\n",
       "      <th>cont12</th>\n",
       "      <th>cont13</th>\n",
       "      <th>cont14</th>\n",
       "    </tr>\n",
       "  </thead>\n",
       "  <tbody>\n",
       "    <tr>\n",
       "      <th>0</th>\n",
       "      <td>0.737375</td>\n",
       "      <td>0.284121</td>\n",
       "      <td>0.196416</td>\n",
       "      <td>0.786418</td>\n",
       "      <td>0.041163</td>\n",
       "      <td>0.716810</td>\n",
       "      <td>0.285393</td>\n",
       "      <td>0.088106</td>\n",
       "      <td>0.674426</td>\n",
       "      <td>0.839313</td>\n",
       "      <td>0.554715</td>\n",
       "      <td>0.580320</td>\n",
       "      <td>0.832028</td>\n",
       "      <td>0.804879</td>\n",
       "    </tr>\n",
       "    <tr>\n",
       "      <th>1</th>\n",
       "      <td>0.335545</td>\n",
       "      <td>0.854225</td>\n",
       "      <td>0.626632</td>\n",
       "      <td>0.561159</td>\n",
       "      <td>0.860732</td>\n",
       "      <td>0.432954</td>\n",
       "      <td>0.394501</td>\n",
       "      <td>0.487975</td>\n",
       "      <td>0.352841</td>\n",
       "      <td>0.441406</td>\n",
       "      <td>0.314495</td>\n",
       "      <td>0.343023</td>\n",
       "      <td>0.618460</td>\n",
       "      <td>0.189002</td>\n",
       "    </tr>\n",
       "    <tr>\n",
       "      <th>2</th>\n",
       "      <td>0.265823</td>\n",
       "      <td>0.414588</td>\n",
       "      <td>0.511420</td>\n",
       "      <td>0.077013</td>\n",
       "      <td>0.165012</td>\n",
       "      <td>0.281332</td>\n",
       "      <td>0.264420</td>\n",
       "      <td>0.048692</td>\n",
       "      <td>0.261906</td>\n",
       "      <td>0.326097</td>\n",
       "      <td>0.359217</td>\n",
       "      <td>0.350420</td>\n",
       "      <td>0.197802</td>\n",
       "      <td>0.894304</td>\n",
       "    </tr>\n",
       "    <tr>\n",
       "      <th>3</th>\n",
       "      <td>0.326489</td>\n",
       "      <td>0.643795</td>\n",
       "      <td>0.557931</td>\n",
       "      <td>0.252713</td>\n",
       "      <td>0.200881</td>\n",
       "      <td>0.435014</td>\n",
       "      <td>0.345649</td>\n",
       "      <td>0.108698</td>\n",
       "      <td>0.322710</td>\n",
       "      <td>0.446914</td>\n",
       "      <td>0.303703</td>\n",
       "      <td>0.296531</td>\n",
       "      <td>0.612031</td>\n",
       "      <td>0.636480</td>\n",
       "    </tr>\n",
       "    <tr>\n",
       "      <th>4</th>\n",
       "      <td>0.277360</td>\n",
       "      <td>0.184376</td>\n",
       "      <td>0.557931</td>\n",
       "      <td>0.380274</td>\n",
       "      <td>0.602287</td>\n",
       "      <td>0.168119</td>\n",
       "      <td>0.191194</td>\n",
       "      <td>0.011744</td>\n",
       "      <td>0.221848</td>\n",
       "      <td>0.213371</td>\n",
       "      <td>0.175796</td>\n",
       "      <td>0.172492</td>\n",
       "      <td>0.248701</td>\n",
       "      <td>0.381278</td>\n",
       "    </tr>\n",
       "  </tbody>\n",
       "</table>\n",
       "</div>"
      ],
      "text/plain": [
       "      cont1     cont2     cont3     cont4     cont5     cont6     cont7  \\\n",
       "0  0.737375  0.284121  0.196416  0.786418  0.041163  0.716810  0.285393   \n",
       "1  0.335545  0.854225  0.626632  0.561159  0.860732  0.432954  0.394501   \n",
       "2  0.265823  0.414588  0.511420  0.077013  0.165012  0.281332  0.264420   \n",
       "3  0.326489  0.643795  0.557931  0.252713  0.200881  0.435014  0.345649   \n",
       "4  0.277360  0.184376  0.557931  0.380274  0.602287  0.168119  0.191194   \n",
       "\n",
       "      cont8     cont9    cont10    cont11    cont12    cont13    cont14  \n",
       "0  0.088106  0.674426  0.839313  0.554715  0.580320  0.832028  0.804879  \n",
       "1  0.487975  0.352841  0.441406  0.314495  0.343023  0.618460  0.189002  \n",
       "2  0.048692  0.261906  0.326097  0.359217  0.350420  0.197802  0.894304  \n",
       "3  0.108698  0.322710  0.446914  0.303703  0.296531  0.612031  0.636480  \n",
       "4  0.011744  0.221848  0.213371  0.175796  0.172492  0.248701  0.381278  "
      ]
     },
     "execution_count": 18,
     "metadata": {},
     "output_type": "execute_result"
    }
   ],
   "source": [
    "normalized = preprocessing.MinMaxScaler().fit(df_all[conts]).transform(df_all[conts])\n",
    "normalized = pd.DataFrame(normalized,columns=conts)\n",
    "print(normalized.shape)\n",
    "normalized.head()"
   ]
  },
  {
   "cell_type": "markdown",
   "metadata": {},
   "source": [
    "#### 3.3 Split the data back to training and testing"
   ]
  },
  {
   "cell_type": "code",
   "execution_count": 20,
   "metadata": {
    "collapsed": false
   },
   "outputs": [
    {
     "name": "stdout",
     "output_type": "stream",
     "text": [
      "Shape of the new training set:  (188301, 1191)\n",
      "Shape of the new test set:  (125546, 1191)\n"
     ]
    }
   ],
   "source": [
    "df_new = pd.concat((dummies,normalized,df_all.label),axis=1)\n",
    "new_train = df_new[df_new.label=='train']\n",
    "new_test = df_new[df_new.label=='test']\n",
    "print(\"Shape of the new training set: \", new_train.shape)\n",
    "print(\"Shape of the new test set: \", new_test.shape)"
   ]
  },
  {
   "cell_type": "code",
   "execution_count": 21,
   "metadata": {
    "collapsed": false
   },
   "outputs": [],
   "source": [
    "del train, test, train_new, df_all"
   ]
  },
  {
   "cell_type": "code",
   "execution_count": null,
   "metadata": {
    "collapsed": true
   },
   "outputs": [],
   "source": [
    "### Some formatting\n",
    "new_train.drop('label',axis=1, inplace=True)\n",
    "new_test.drop('label',axis=1, inplace=True)\n",
    "new_train = new_train.reset_index(drop=True)\n",
    "new_test = new_test.reset_index(drop=True)"
   ]
  },
  {
   "cell_type": "markdown",
   "metadata": {},
   "source": [
    "### 4. Dimensioanality Reduction\n",
    "    - Train and Test Split\n",
    "    - Feature Selection\n",
    "    - PCA"
   ]
  },
  {
   "cell_type": "markdown",
   "metadata": {},
   "source": [
    "#### 4.1 Train and Test Split"
   ]
  },
  {
   "cell_type": "code",
   "execution_count": 36,
   "metadata": {
    "collapsed": false
   },
   "outputs": [],
   "source": [
    "#### 4.1 Train and Test Split\n",
    "train_x = new_train.sample(frac=0.1, replace=False)\n",
    "train_y = label_new[train_x.index]\n",
    "### 80% - 20% train and test split\n",
    "X_train, X_test,y_train, y_test = cross_validation.train_test_split(X.values, Y.values, test_size=0.2, random_state=50)"
   ]
  },
  {
   "cell_type": "code",
   "execution_count": 41,
   "metadata": {
    "collapsed": false
   },
   "outputs": [
    {
     "data": {
      "text/plain": [
       "(15064, 1190)"
      ]
     },
     "execution_count": 41,
     "metadata": {},
     "output_type": "execute_result"
    }
   ],
   "source": [
    "X_train.shape"
   ]
  },
  {
   "cell_type": "markdown",
   "metadata": {},
   "source": [
    "### Please see the other scripts for the dimensionality reduction and data modeling!\n",
    "### Thank you!"
   ]
  }
 ],
 "metadata": {
  "anaconda-cloud": {},
  "kernelspec": {
   "display_name": "Python 3",
   "language": "python",
   "name": "python3"
  },
  "language_info": {
   "codemirror_mode": {
    "name": "ipython",
    "version": 3
   },
   "file_extension": ".py",
   "mimetype": "text/x-python",
   "name": "python",
   "nbconvert_exporter": "python",
   "pygments_lexer": "ipython3",
   "version": "3.5.2"
  }
 },
 "nbformat": 4,
 "nbformat_minor": 0
}
